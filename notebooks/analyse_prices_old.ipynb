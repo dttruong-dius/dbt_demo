{
 "cells": [
  {
   "cell_type": "code",
   "execution_count": 0,
   "metadata": {
    "application/vnd.databricks.v1+cell": {
     "cellMetadata": {
      "byteLimit": 2048000,
      "rowLimit": 10000
     },
     "inputWidgets": {},
     "nuid": "db194bc6-8781-4071-88a2-f7deec8978b1",
     "showTitle": false,
     "tableResultSettingsMap": {},
     "title": ""
    }
   },
   "outputs": [],
   "source": [
    "# Run an SQL query using Spark and convert the result to a Pandas DataFrame\n",
    "query = \"\"\"\n",
    "select * from hive_metastore.default.long_lake.dim_category_databricks\n",
    "limit 10\n",
    "\"\"\"\n",
    "spark_df = spark.sql(query)\n",
    "df = spark_df.toPandas()\n",
    "df.head()"
   ]
  },
  {
   "cell_type": "code",
   "execution_count": 0,
   "metadata": {
    "application/vnd.databricks.v1+cell": {
     "cellMetadata": {},
     "inputWidgets": {},
     "nuid": "4f5334ef-ec69-463e-8c2b-fe8ee68a3bf7",
     "showTitle": false,
     "tableResultSettingsMap": {},
     "title": ""
    }
   },
   "outputs": [],
   "source": [
    "# Run an SQL query using Spark and convert the result to a Pandas DataFrame\n",
    "query = \"\"\"\n",
    "select\n",
    "    from_utc_timestamp (a.job_lead_created_timestamp, 'Australia/Sydney') as lead_created_timestamp,\n",
    "    from_utc_timestamp (j.__dl_updated_ts, 'Australia/Sydney') as job_updated_timestamp,\n",
    "    a.lead_id,\n",
    "    a.job_id,\n",
    "    rtm.is_test_region_level,\n",
    "    b.master_category,\n",
    "    rlm.state_code,\n",
    "    a.job_lead_price,\n",
    "    a.job_lead_claimed,\n",
    "    case\n",
    "        when a.job_lead_round_type = 'first-round'\n",
    "        and job_lead_invitation_round = 0 then 1\n",
    "        else 0\n",
    "    end as is_first_round_first_batch,\n",
    "    case\n",
    "        when a.job_lead_round_type = 'first-round'\n",
    "        and job_lead_invitation_round <> 0 then 1\n",
    "        else 0\n",
    "    end as is_first_round_other_batches,\n",
    "    case\n",
    "        when a.job_lead_round_type = 're-invitation' then 1\n",
    "        else 0\n",
    "    end as is_reinvitation_round,\n",
    "    case\n",
    "        when a.job_lead_round_type not in ('re-invitation', 'first-round') then 1\n",
    "        else 0\n",
    "    end as is_other_rounds\n",
    "from\n",
    "    lakehouse_production.gold.lead_management__fact_job_leads_enriched as a\n",
    "    left join hive_metastore.long_lake.dim_category_databricks as b on a.job_category_id = b.category_dim_key\n",
    "    inner join lakehouse_production.gold.jobs__fact_jobs_validated as j on a.job_id = j.job_id\n",
    "    inner join lakehouse_production.ml_features.int_regionid_statecode_mapping__location as rlm on j.job_suburb_id = rlm.suburb_id\n",
    "    inner join lakehouse_production.ml_features_location_static.regionid_test_mapping as rtm on rtm.region_id = rlm.region_id\n",
    "where\n",
    "    a.job_lead_created_date_dim_key between 20250226 and 20250326\n",
    "    and a.job_lead_claimed = true\n",
    "    and b.master_category in (\n",
    "        'Insulation',\n",
    "        'Interior Design',\n",
    "        'Staircases',\n",
    "        'Security & Home Entertainment',\n",
    "        'Pest Control',\n",
    "        'Stonemasonry',\n",
    "        'Locksmithing',\n",
    "        'Fireplaces',\n",
    "        'Furniture Removal',\n",
    "        'Demolition & Asbestos Removal',\n",
    "        'Pool Building & Maintainance',\n",
    "        'Outdoor Constructions',\n",
    "        'Appliances & Climate Control'\n",
    "    )\n",
    "limit 10\n",
    "\"\"\"\n",
    "spark_df = spark.sql(query)\n",
    "df = spark_df.toPandas()\n",
    "df.head()"
   ]
  },
  {
   "cell_type": "code",
   "execution_count": 0,
   "metadata": {
    "application/vnd.databricks.v1+cell": {
     "cellMetadata": {},
     "inputWidgets": {},
     "nuid": "b37a4743-65c3-426f-b797-f4a1782acb9c",
     "showTitle": false,
     "tableResultSettingsMap": {},
     "title": ""
    }
   },
   "outputs": [],
   "source": [
    "len(df)"
   ]
  },
  {
   "cell_type": "code",
   "execution_count": 0,
   "metadata": {
    "application/vnd.databricks.v1+cell": {
     "cellMetadata": {
      "byteLimit": 2048000,
      "rowLimit": 10000
     },
     "inputWidgets": {},
     "nuid": "a8fed936-d9df-4b11-b75f-b299f0a34e8b",
     "showTitle": false,
     "tableResultSettingsMap": {},
     "title": ""
    }
   },
   "outputs": [],
   "source": [
    "spark.sql(\"SHOW SCHEMAS IN hive_metastore\").show()"
   ]
  },
  {
   "cell_type": "code",
   "execution_count": 0,
   "metadata": {
    "application/vnd.databricks.v1+cell": {
     "cellMetadata": {
      "byteLimit": 2048000,
      "rowLimit": 10000
     },
     "inputWidgets": {},
     "nuid": "b7d02d07-fac5-4fa0-ae75-e6211bbaffb3",
     "showTitle": false,
     "tableResultSettingsMap": {},
     "title": ""
    }
   },
   "outputs": [],
   "source": [
    "spark.conf.get(\"spark.sql.catalogImplementation\")"
   ]
  },
  {
   "cell_type": "code",
   "execution_count": 0,
   "metadata": {
    "application/vnd.databricks.v1+cell": {
     "cellMetadata": {
      "byteLimit": 2048000,
      "rowLimit": 10000
     },
     "inputWidgets": {},
     "nuid": "99a638aa-1440-4c48-a2c7-8556a707f8f1",
     "showTitle": false,
     "tableResultSettingsMap": {},
     "title": ""
    }
   },
   "outputs": [],
   "source": [
    "spark.sql(\"SHOW SCHEMAS IN hive_metastore\").show(truncate=False)"
   ]
  },
  {
   "cell_type": "code",
   "execution_count": 0,
   "metadata": {
    "application/vnd.databricks.v1+cell": {
     "cellMetadata": {},
     "inputWidgets": {},
     "nuid": "a3c0034c-63a2-45b1-aff0-1b050ff10bea",
     "showTitle": false,
     "tableResultSettingsMap": {},
     "title": ""
    }
   },
   "outputs": [],
   "source": []
  }
 ],
 "metadata": {
  "application/vnd.databricks.v1+notebook": {
   "computePreferences": null,
   "dashboards": [],
   "environmentMetadata": {
    "base_environment": "",
    "environment_version": "3"
   },
   "inputWidgetPreferences": null,
   "language": "python",
   "notebookMetadata": {
    "pythonIndentUnit": 4
   },
   "notebookName": "analyse_prices_old",
   "widgets": {}
  },
  "language_info": {
   "name": "python"
  }
 },
 "nbformat": 4,
 "nbformat_minor": 0
}
